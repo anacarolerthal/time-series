{
 "cells": [
  {
   "cell_type": "code",
   "execution_count": 1,
   "metadata": {},
   "outputs": [
    {
     "name": "stderr",
     "output_type": "stream",
     "text": [
      "2023-12-04 19:35:26.905290: I external/local_tsl/tsl/cuda/cudart_stub.cc:31] Could not find cuda drivers on your machine, GPU will not be used.\n",
      "2023-12-04 19:35:27.152811: E external/local_xla/xla/stream_executor/cuda/cuda_dnn.cc:9261] Unable to register cuDNN factory: Attempting to register factory for plugin cuDNN when one has already been registered\n",
      "2023-12-04 19:35:27.152929: E external/local_xla/xla/stream_executor/cuda/cuda_fft.cc:607] Unable to register cuFFT factory: Attempting to register factory for plugin cuFFT when one has already been registered\n",
      "2023-12-04 19:35:27.191984: E external/local_xla/xla/stream_executor/cuda/cuda_blas.cc:1515] Unable to register cuBLAS factory: Attempting to register factory for plugin cuBLAS when one has already been registered\n",
      "2023-12-04 19:35:27.271304: I external/local_tsl/tsl/cuda/cudart_stub.cc:31] Could not find cuda drivers on your machine, GPU will not be used.\n",
      "2023-12-04 19:35:27.272870: I tensorflow/core/platform/cpu_feature_guard.cc:182] This TensorFlow binary is optimized to use available CPU instructions in performance-critical operations.\n",
      "To enable the following instructions: AVX2 FMA, in other operations, rebuild TensorFlow with the appropriate compiler flags.\n",
      "2023-12-04 19:35:28.348310: W tensorflow/compiler/tf2tensorrt/utils/py_utils.cc:38] TF-TRT Warning: Could not find TensorRT\n"
     ]
    }
   ],
   "source": [
    "import os\n",
    "import numpy as np\n",
    "from matplotlib import pyplot as plt\n",
    "import keras\n",
    "from tensorflow import keras\n",
    "from tensorflow.keras import layers\n"
   ]
  },
  {
   "cell_type": "code",
   "execution_count": 3,
   "metadata": {},
   "outputs": [
    {
     "name": "stdout",
     "output_type": "stream",
     "text": [
      "['\"Date Time\"', '\"p (mbar)\"', '\"T (degC)\"', '\"Tpot (K)\"', '\"Tdew (degC)\"', '\"rh (%)\"', '\"VPmax (mbar)\"', '\"VPact (mbar)\"', '\"VPdef (mbar)\"', '\"sh (g/kg)\"', '\"H2OC (mmol/mol)\"', '\"rho (g/m**3)\"', '\"wv (m/s)\"', '\"max. wv (m/s)\"', '\"wd (deg)\"']\n",
      "420451\n"
     ]
    }
   ],
   "source": [
    "fname = os.path.join(\"data\",\"jena_climate_2009_2016.csv\")\n",
    "with open(fname) as f:\n",
    "    data = f.read()\n",
    "lines = data.split(\"\\n\")\n",
    "header = lines[0].split(\",\")\n",
    "lines = lines[1:]\n",
    "print(header)\n",
    "print(len(lines))"
   ]
  },
  {
   "cell_type": "code",
   "execution_count": 3,
   "metadata": {},
   "outputs": [],
   "source": [
    "temperature = np.zeros((len(lines),))\n",
    "raw_data = np.zeros((len(lines), len(header) - 1))\n",
    "for i, line in enumerate(lines):\n",
    "    values = [float(x) for x in line.split(\",\")[1:]]\n",
    "    temperature[i] = values[1]\n",
    "    raw_data[i, :] = values[:]"
   ]
  },
  {
   "cell_type": "markdown",
   "metadata": {},
   "source": [
    "## Prepare the data"
   ]
  },
  {
   "cell_type": "code",
   "execution_count": 4,
   "metadata": {},
   "outputs": [
    {
     "name": "stdout",
     "output_type": "stream",
     "text": [
      "num_train_samples: 210225\n",
      "num_val_samples: 105112\n",
      "num_test_samples: 105114\n"
     ]
    }
   ],
   "source": [
    "num_train_samples = int(0.5 * len(raw_data))\n",
    "num_val_samples = int(0.25 * len(raw_data))\n",
    "num_test_samples = len(raw_data) - num_train_samples - num_val_samples\n",
    "print(\"num_train_samples:\", num_train_samples)\n",
    "print(\"num_val_samples:\", num_val_samples)\n",
    "print(\"num_test_samples:\", num_test_samples)"
   ]
  },
  {
   "cell_type": "code",
   "execution_count": 5,
   "metadata": {},
   "outputs": [],
   "source": [
    "mean = raw_data[:num_train_samples].mean(axis=0)\n",
    "raw_data -= mean\n",
    "std = raw_data[:num_train_samples].std(axis=0)\n",
    "raw_data /= std"
   ]
  },
  {
   "cell_type": "code",
   "execution_count": 6,
   "metadata": {},
   "outputs": [
    {
     "name": "stderr",
     "output_type": "stream",
     "text": [
      "2023-12-04 19:35:31.201862: E external/local_xla/xla/stream_executor/cuda/cuda_driver.cc:274] failed call to cuInit: CUDA_ERROR_NO_DEVICE: no CUDA-capable device is detected\n",
      "2023-12-04 19:35:31.274885: W external/local_tsl/tsl/framework/cpu_allocator_impl.cc:83] Allocation of 23545200 exceeds 10% of free system memory.\n"
     ]
    }
   ],
   "source": [
    "sampling_rate = 6\n",
    "sequence_length = 120\n",
    "delay = sampling_rate * (sequence_length + 24 - 1)\n",
    "batch_size = 256\n",
    "\n",
    "train_dataset = keras.utils.timeseries_dataset_from_array(\n",
    "    raw_data[:-delay],\n",
    "    targets=temperature[delay:],\n",
    "    sampling_rate=sampling_rate,\n",
    "    sequence_length=sequence_length,\n",
    "    shuffle=True,\n",
    "    batch_size=batch_size,\n",
    "    start_index=0,\n",
    "    end_index=num_train_samples\n",
    ")\n",
    "\n",
    "val_dataset = keras.utils.timeseries_dataset_from_array(\n",
    "    raw_data[:-delay],\n",
    "    targets=temperature[delay:],\n",
    "    sampling_rate=sampling_rate,\n",
    "    sequence_length=sequence_length,\n",
    "    shuffle=True,\n",
    "    batch_size=batch_size,\n",
    "    start_index=num_train_samples,\n",
    "    end_index=num_train_samples + num_val_samples\n",
    ")\n",
    "\n",
    "test_dataset = keras.utils.timeseries_dataset_from_array(\n",
    "    raw_data[:-delay],\n",
    "    targets=temperature[delay:],\n",
    "    sampling_rate=sampling_rate,\n",
    "    sequence_length=sequence_length,\n",
    "    shuffle=True,\n",
    "    batch_size=batch_size,\n",
    "    start_index=num_train_samples + num_val_samples\n",
    ")"
   ]
  },
  {
   "cell_type": "code",
   "execution_count": 7,
   "metadata": {},
   "outputs": [
    {
     "name": "stdout",
     "output_type": "stream",
     "text": [
      "samples shape: (256, 120, 14)\n",
      "targets shape: (256,)\n"
     ]
    },
    {
     "name": "stderr",
     "output_type": "stream",
     "text": [
      "2023-12-04 19:35:31.455659: W external/local_tsl/tsl/framework/cpu_allocator_impl.cc:83] Allocation of 23545200 exceeds 10% of free system memory.\n"
     ]
    }
   ],
   "source": [
    "for samples, targets in train_dataset:\n",
    "    print(\"samples shape:\", samples.shape)\n",
    "    print(\"targets shape:\", targets.shape)\n",
    "    break"
   ]
  },
  {
   "cell_type": "markdown",
   "metadata": {},
   "source": [
    "## Base line "
   ]
  },
  {
   "cell_type": "code",
   "execution_count": 8,
   "metadata": {},
   "outputs": [
    {
     "name": "stdout",
     "output_type": "stream",
     "text": [
      "Validation MAE: 2.44\n",
      "Test MAE: 2.62\n"
     ]
    }
   ],
   "source": [
    "def evaluate_naive_method(dataset):\n",
    "    total_abs_err = 0.\n",
    "    samples_seen = 0\n",
    "    for samples, targets in dataset:\n",
    "        preds = samples[:, -1, 1] * std[1] + mean[1]\n",
    "        total_abs_err += np.sum(np.abs(preds - targets))\n",
    "        samples_seen += samples.shape[0]\n",
    "    return total_abs_err / samples_seen\n",
    "\n",
    "\n",
    "print(f\"Validation MAE: {evaluate_naive_method(val_dataset):.2f}\")\n",
    "print(f\"Test MAE: {evaluate_naive_method(test_dataset):.2f}\")"
   ]
  },
  {
   "cell_type": "markdown",
   "metadata": {},
   "source": [
    "## Feedforward Neural Network\n",
    "#### Alterações:\n",
    "- **Número de neurônios:** Alterado de 16 para 4 neurôneos na primeira camada densa\n",
    "- **Função de ativação:** Alterada de ReLU para Tanh\n",
    "- **Otimizador:** Alterado de \"rmsprop\" para Adam\n",
    "- **Número de épocas:** Alterado de 10 para 50\n",
    "- **Batch Normalization:** Adicionamos Batch Normalization\n",
    "- **Early Stopping:** Adicionamos Early Stopping monitorando a loss da validação e com paciência 10\n"
   ]
  },
  {
   "cell_type": "code",
   "execution_count": 15,
   "metadata": {},
   "outputs": [],
   "source": [
    "inputs = keras.Input(shape=(sequence_length, raw_data.shape[-1]))\n",
    "x = layers.Flatten()(inputs)\n",
    "x = layers.BatchNormalization()(x)\n",
    "x = layers.Dense(4, activation=\"tanh\")(x)\n",
    "x = layers.BatchNormalization()(x)\n",
    "outputs = layers.Dense(1)(x)\n",
    "model = keras.Model(inputs, outputs)"
   ]
  },
  {
   "cell_type": "code",
   "execution_count": 13,
   "metadata": {},
   "outputs": [
    {
     "name": "stdout",
     "output_type": "stream",
     "text": [
      "Model: \"model_1\"\n",
      "_________________________________________________________________\n",
      " Layer (type)                Output Shape              Param #   \n",
      "=================================================================\n",
      " input_2 (InputLayer)        [(None, 120, 14)]         0         \n",
      "                                                                 \n",
      " flatten_1 (Flatten)         (None, 1680)              0         \n",
      "                                                                 \n",
      " dense_2 (Dense)             (None, 4)                 6724      \n",
      "                                                                 \n",
      " dense_3 (Dense)             (None, 1)                 5         \n",
      "                                                                 \n",
      "=================================================================\n",
      "Total params: 6729 (26.29 KB)\n",
      "Trainable params: 6729 (26.29 KB)\n",
      "Non-trainable params: 0 (0.00 Byte)\n",
      "_________________________________________________________________\n"
     ]
    }
   ],
   "source": [
    "model.summary()"
   ]
  },
  {
   "cell_type": "code",
   "execution_count": 16,
   "metadata": {},
   "outputs": [
    {
     "name": "stdout",
     "output_type": "stream",
     "text": [
      "Epoch 1/50\n"
     ]
    },
    {
     "name": "stdout",
     "output_type": "stream",
     "text": [
      "819/819 [==============================] - 13s 15ms/step - loss: 70.5400 - mae: 7.0321 - val_loss: 23.9977 - val_mae: 4.1293\n",
      "Epoch 2/50\n",
      "819/819 [==============================] - 14s 17ms/step - loss: 13.1628 - mae: 2.8923 - val_loss: 10.7275 - val_mae: 2.5762\n",
      "Epoch 3/50\n",
      "819/819 [==============================] - 14s 17ms/step - loss: 9.6985 - mae: 2.4502 - val_loss: 10.3928 - val_mae: 2.5048\n",
      "Epoch 4/50\n",
      "819/819 [==============================] - 14s 17ms/step - loss: 9.6511 - mae: 2.4460 - val_loss: 10.3129 - val_mae: 2.5208\n",
      "Epoch 5/50\n",
      "819/819 [==============================] - 14s 17ms/step - loss: 9.5833 - mae: 2.4358 - val_loss: 10.3511 - val_mae: 2.5309\n",
      "Epoch 6/50\n",
      "819/819 [==============================] - 14s 17ms/step - loss: 9.5213 - mae: 2.4306 - val_loss: 15.1751 - val_mae: 3.0153\n",
      "Epoch 7/50\n",
      "819/819 [==============================] - 14s 17ms/step - loss: 9.4956 - mae: 2.4278 - val_loss: 10.3703 - val_mae: 2.5149\n",
      "Epoch 8/50\n",
      "819/819 [==============================] - 15s 18ms/step - loss: 9.4326 - mae: 2.4226 - val_loss: 10.1618 - val_mae: 2.4862\n",
      "Epoch 9/50\n",
      "819/819 [==============================] - 15s 18ms/step - loss: 9.3127 - mae: 2.4085 - val_loss: 10.1553 - val_mae: 2.4877\n",
      "Epoch 10/50\n",
      "819/819 [==============================] - 15s 18ms/step - loss: 9.3225 - mae: 2.4074 - val_loss: 11.4762 - val_mae: 2.6377\n",
      "Epoch 11/50\n",
      "819/819 [==============================] - 14s 17ms/step - loss: 9.3931 - mae: 2.4184 - val_loss: 10.1615 - val_mae: 2.4814\n",
      "Epoch 12/50\n",
      "819/819 [==============================] - 16s 19ms/step - loss: 9.3293 - mae: 2.4108 - val_loss: 11.6432 - val_mae: 2.6575\n",
      "Epoch 13/50\n",
      "819/819 [==============================] - 19s 24ms/step - loss: 9.2028 - mae: 2.3946 - val_loss: 10.7094 - val_mae: 2.5394\n",
      "Epoch 14/50\n",
      "819/819 [==============================] - 15s 18ms/step - loss: 9.2206 - mae: 2.3968 - val_loss: 10.3498 - val_mae: 2.5126\n",
      "Epoch 15/50\n",
      "819/819 [==============================] - 15s 18ms/step - loss: 9.2365 - mae: 2.4004 - val_loss: 9.7377 - val_mae: 2.4356\n",
      "Epoch 16/50\n",
      "819/819 [==============================] - 15s 18ms/step - loss: 9.1391 - mae: 2.3877 - val_loss: 9.9941 - val_mae: 2.4635\n",
      "Epoch 17/50\n",
      "819/819 [==============================] - 15s 18ms/step - loss: 9.1514 - mae: 2.3881 - val_loss: 10.3805 - val_mae: 2.5374\n",
      "Epoch 18/50\n",
      "819/819 [==============================] - 15s 18ms/step - loss: 9.1146 - mae: 2.3838 - val_loss: 9.4437 - val_mae: 2.3910\n",
      "Epoch 19/50\n",
      "819/819 [==============================] - 15s 18ms/step - loss: 9.0819 - mae: 2.3794 - val_loss: 10.7879 - val_mae: 2.5437\n",
      "Epoch 20/50\n",
      "819/819 [==============================] - 15s 18ms/step - loss: 9.0695 - mae: 2.3796 - val_loss: 12.1622 - val_mae: 2.7076\n",
      "Epoch 21/50\n",
      "819/819 [==============================] - 15s 18ms/step - loss: 8.9813 - mae: 2.3681 - val_loss: 10.1180 - val_mae: 2.4975\n",
      "Epoch 22/50\n",
      "819/819 [==============================] - 15s 18ms/step - loss: 9.0600 - mae: 2.3769 - val_loss: 9.6279 - val_mae: 2.4226\n",
      "Epoch 23/50\n",
      "819/819 [==============================] - 15s 18ms/step - loss: 9.0473 - mae: 2.3758 - val_loss: 10.3395 - val_mae: 2.5233\n",
      "Epoch 24/50\n",
      "819/819 [==============================] - 15s 18ms/step - loss: 9.0447 - mae: 2.3732 - val_loss: 10.1568 - val_mae: 2.4907\n",
      "Epoch 25/50\n",
      "819/819 [==============================] - 15s 18ms/step - loss: 8.9670 - mae: 2.3652 - val_loss: 9.4785 - val_mae: 2.4016\n",
      "Epoch 26/50\n",
      "819/819 [==============================] - 15s 18ms/step - loss: 9.0216 - mae: 2.3711 - val_loss: 10.3932 - val_mae: 2.5157\n",
      "Epoch 27/50\n",
      "819/819 [==============================] - 15s 18ms/step - loss: 8.9221 - mae: 2.3580 - val_loss: 9.5081 - val_mae: 2.3956\n",
      "Epoch 28/50\n",
      "819/819 [==============================] - 15s 18ms/step - loss: 8.9480 - mae: 2.3625 - val_loss: 9.6981 - val_mae: 2.4264\n",
      "405/405 [==============================] - 5s 11ms/step - loss: 10.5246 - mae: 2.5356\n",
      "Test MAE: 2.54\n"
     ]
    }
   ],
   "source": [
    "model.compile(optimizer=\"adam\", loss=\"mse\", metrics=[\"mae\"])\n",
    "callback = keras.callbacks.EarlyStopping(monitor='val_loss', patience=10),\n",
    "\n",
    "history = model.fit(\n",
    "    train_dataset,\n",
    "    epochs=50,\n",
    "    validation_data=val_dataset,\n",
    "    callbacks=[callback]\n",
    ")\n",
    "\n",
    "print(f\"Test MAE: {model.evaluate(test_dataset)[1]:.2f}\")"
   ]
  },
  {
   "cell_type": "code",
   "execution_count": 17,
   "metadata": {},
   "outputs": [
    {
     "data": {
      "image/png": "[encoded data removed]",
      "text/plain": [
       "<Figure size 640x480 with 1 Axes>"
      ]
     },
     "metadata": {},
     "output_type": "display_data"
    }
   ],
   "source": [
    "import matplotlib.pyplot as plt\n",
    "\n",
    "loss = history.history[\"mae\"]\n",
    "val_loss = history.history[\"val_mae\"]\n",
    "epochs = range(1, len(loss) + 1)\n",
    "plt.figure()\n",
    "plt.plot(epochs, loss, \"bo\", label=\"Training MAE\")\n",
    "plt.plot(epochs, val_loss, \"b\", label=\"Validation MAE\")\n",
    "plt.title(\"Training and validation MAE\")\n",
    "plt.legend()\n",
    "plt.show()"
   ]
  },
  {
   "cell_type": "markdown",
   "metadata": {},
   "source": [
    "## 1D convolution neural network\n",
    "#### Alterações\n",
    "- **Número de filtros:** Alterado de 8 para 4 filtros de cada camada convolucional\n",
    "- **Função de ativação:** Alterada de ReLU para Leaky ReLU em cada camada convolucional\n",
    "- **Otimizador:** Alterado de \"rmsprop\" para Adam\n",
    "- **Número de épocas:** Alterado de 10 para 100\n",
    "- **Batch Normalization:** Adicionamos Batch Normalization\n",
    "- **Regularização:** Adicionamos regularização L2 em cada camada convolucional\n",
    "- **Dropout:** Adicionamos Dropout de 20% nas duas primeiras camadas convolucionais\n",
    "- **Early Stopping:** Adicionamos Early Stopping monitorando a loss da validação e com paciência 10\n"
   ]
  },
  {
   "cell_type": "code",
   "execution_count": 10,
   "metadata": {},
   "outputs": [],
   "source": [
    "from keras import layers, regularizers\n",
    "\n",
    "inputs = keras.Input(shape=(sequence_length, raw_data.shape[-1]))\n",
    "\n",
    "x = layers.Conv1D(4, 24, activation=\"leaky_relu\", \n",
    "                  kernel_regularizer=regularizers.l2(0.001))(inputs)\n",
    "x = layers.BatchNormalization()(x)\n",
    "x = layers.MaxPooling1D(2)(x)\n",
    "x = layers.Dropout(0.2)(x) \n",
    "\n",
    "x = layers.Conv1D(4, 12, activation=\"leaky_relu\", \n",
    "                  kernel_regularizer=regularizers.l2(0.001))(x)\n",
    "x = layers.BatchNormalization()(x)\n",
    "x = layers.MaxPooling1D(2)(x)\n",
    "x = layers.Dropout(0.2)(x) \n",
    "\n",
    "x = layers.Conv1D(4, 6, activation=\"leaky_relu\", \n",
    "                  kernel_regularizer=regularizers.l2(0.001))(x)\n",
    "x = layers.BatchNormalization()(x)\n",
    "x = layers.GlobalAveragePooling1D()(x)\n",
    "\n",
    "outputs = layers.Dense(1, kernel_regularizer=regularizers.l2(0.001))(x) \n",
    "model = keras.Model(inputs, outputs)\n"
   ]
  },
  {
   "cell_type": "code",
   "execution_count": 11,
   "metadata": {},
   "outputs": [
    {
     "name": "stdout",
     "output_type": "stream",
     "text": [
      "Model: \"model_1\"\n",
      "_________________________________________________________________\n",
      " Layer (type)                Output Shape              Param #   \n",
      "=================================================================\n",
      " input_2 (InputLayer)        [(None, 120, 14)]         0         \n",
      "                                                                 \n",
      " conv1d_3 (Conv1D)           (None, 97, 4)             1348      \n",
      "                                                                 \n",
      " batch_normalization_3 (Bat  (None, 97, 4)             16        \n",
      " chNormalization)                                                \n",
      "                                                                 \n",
      " max_pooling1d_2 (MaxPoolin  (None, 48, 4)             0         \n",
      " g1D)                                                            \n",
      "                                                                 \n",
      " dropout_2 (Dropout)         (None, 48, 4)             0         \n",
      "                                                                 \n",
      " conv1d_4 (Conv1D)           (None, 37, 4)             196       \n",
      "                                                                 \n",
      " batch_normalization_4 (Bat  (None, 37, 4)             16        \n",
      " chNormalization)                                                \n",
      "                                                                 \n",
      " max_pooling1d_3 (MaxPoolin  (None, 18, 4)             0         \n",
      " g1D)                                                            \n",
      "                                                                 \n",
      " dropout_3 (Dropout)         (None, 18, 4)             0         \n",
      "                                                                 \n",
      " conv1d_5 (Conv1D)           (None, 13, 4)             100       \n",
      "                                                                 \n",
      " batch_normalization_5 (Bat  (None, 13, 4)             16        \n",
      " chNormalization)                                                \n",
      "                                                                 \n",
      " global_average_pooling1d_1  (None, 4)                 0         \n",
      "  (GlobalAveragePooling1D)                                       \n",
      "                                                                 \n",
      " dense_1 (Dense)             (None, 1)                 5         \n",
      "                                                                 \n",
      "=================================================================\n",
      "Total params: 1697 (6.63 KB)\n",
      "Trainable params: 1673 (6.54 KB)\n",
      "Non-trainable params: 24 (96.00 Byte)\n",
      "_________________________________________________________________\n"
     ]
    }
   ],
   "source": [
    "model.summary()"
   ]
  },
  {
   "cell_type": "code",
   "execution_count": 35,
   "metadata": {},
   "outputs": [
    {
     "name": "stdout",
     "output_type": "stream",
     "text": [
      "Epoch 1/100\n",
      "819/819 [==============================] - 31s 35ms/step - loss: 84.1103 - mae: 7.4559 - val_loss: 33.3552 - val_mae: 4.5660\n",
      "Epoch 2/100\n",
      "819/819 [==============================] - 28s 34ms/step - loss: 22.0301 - mae: 3.6606 - val_loss: 14.7970 - val_mae: 3.0260\n",
      "Epoch 3/100\n",
      "819/819 [==============================] - 28s 34ms/step - loss: 16.9365 - mae: 3.2601 - val_loss: 14.3238 - val_mae: 2.9864\n",
      "Epoch 4/100\n",
      "819/819 [==============================] - 29s 35ms/step - loss: 16.0614 - mae: 3.1737 - val_loss: 14.0666 - val_mae: 2.9676\n",
      "Epoch 5/100\n",
      "819/819 [==============================] - 30s 36ms/step - loss: 15.4459 - mae: 3.1097 - val_loss: 13.3532 - val_mae: 2.8697\n",
      "Epoch 6/100\n",
      "819/819 [==============================] - 31s 37ms/step - loss: 14.8949 - mae: 3.0540 - val_loss: 12.6540 - val_mae: 2.7879\n",
      "Epoch 7/100\n",
      "819/819 [==============================] - 30s 36ms/step - loss: 14.4226 - mae: 2.9995 - val_loss: 12.2822 - val_mae: 2.7444\n",
      "Epoch 8/100\n",
      "819/819 [==============================] - 30s 37ms/step - loss: 14.0884 - mae: 2.9605 - val_loss: 12.3684 - val_mae: 2.7687\n",
      "Epoch 9/100\n",
      "819/819 [==============================] - 29s 35ms/step - loss: 13.7750 - mae: 2.9266 - val_loss: 12.7730 - val_mae: 2.8220\n",
      "Epoch 10/100\n",
      "819/819 [==============================] - 29s 36ms/step - loss: 13.5500 - mae: 2.9016 - val_loss: 11.6972 - val_mae: 2.6813\n",
      "Epoch 11/100\n",
      "819/819 [==============================] - 29s 35ms/step - loss: 13.4974 - mae: 2.8947 - val_loss: 11.9190 - val_mae: 2.7035\n",
      "Epoch 12/100\n",
      "819/819 [==============================] - 28s 35ms/step - loss: 13.4140 - mae: 2.8852 - val_loss: 11.4877 - val_mae: 2.6577\n",
      "Epoch 13/100\n",
      "819/819 [==============================] - 29s 35ms/step - loss: 13.3143 - mae: 2.8736 - val_loss: 11.5227 - val_mae: 2.6681\n",
      "Epoch 14/100\n",
      "819/819 [==============================] - 28s 34ms/step - loss: 13.2524 - mae: 2.8711 - val_loss: 11.6550 - val_mae: 2.6837\n",
      "Epoch 15/100\n",
      "819/819 [==============================] - 27s 33ms/step - loss: 13.2939 - mae: 2.8731 - val_loss: 11.7784 - val_mae: 2.6943\n",
      "Epoch 16/100\n",
      "819/819 [==============================] - 28s 34ms/step - loss: 13.2200 - mae: 2.8645 - val_loss: 11.9214 - val_mae: 2.7110\n",
      "Epoch 17/100\n",
      "819/819 [==============================] - 28s 34ms/step - loss: 13.1299 - mae: 2.8563 - val_loss: 11.8429 - val_mae: 2.7030\n",
      "Epoch 18/100\n",
      "819/819 [==============================] - 28s 34ms/step - loss: 13.1240 - mae: 2.8547 - val_loss: 12.5569 - val_mae: 2.7874\n",
      "Epoch 19/100\n",
      "819/819 [==============================] - 27s 33ms/step - loss: 13.0594 - mae: 2.8483 - val_loss: 11.2862 - val_mae: 2.6354\n",
      "Epoch 20/100\n",
      "819/819 [==============================] - 28s 34ms/step - loss: 13.0101 - mae: 2.8420 - val_loss: 11.2633 - val_mae: 2.6324\n",
      "Epoch 21/100\n",
      "819/819 [==============================] - 28s 34ms/step - loss: 13.0145 - mae: 2.8444 - val_loss: 11.4387 - val_mae: 2.6520\n",
      "Epoch 22/100\n",
      "819/819 [==============================] - 27s 33ms/step - loss: 12.9354 - mae: 2.8377 - val_loss: 11.2541 - val_mae: 2.6314\n",
      "Epoch 23/100\n",
      "819/819 [==============================] - 27s 33ms/step - loss: 12.8747 - mae: 2.8283 - val_loss: 11.4719 - val_mae: 2.6674\n",
      "Epoch 24/100\n",
      "819/819 [==============================] - 27s 33ms/step - loss: 12.8893 - mae: 2.8313 - val_loss: 11.3836 - val_mae: 2.6485\n",
      "Epoch 25/100\n",
      "819/819 [==============================] - 28s 34ms/step - loss: 12.7936 - mae: 2.8234 - val_loss: 11.4524 - val_mae: 2.6569\n",
      "Epoch 26/100\n",
      "819/819 [==============================] - 27s 33ms/step - loss: 12.8266 - mae: 2.8242 - val_loss: 11.2277 - val_mae: 2.6261\n",
      "Epoch 27/100\n",
      "819/819 [==============================] - 27s 33ms/step - loss: 12.7744 - mae: 2.8163 - val_loss: 11.5586 - val_mae: 2.6735\n",
      "Epoch 28/100\n",
      "819/819 [==============================] - 28s 34ms/step - loss: 12.8019 - mae: 2.8237 - val_loss: 11.1679 - val_mae: 2.6231\n",
      "Epoch 29/100\n",
      "819/819 [==============================] - 27s 33ms/step - loss: 12.7170 - mae: 2.8128 - val_loss: 11.2526 - val_mae: 2.6270\n",
      "Epoch 30/100\n",
      "819/819 [==============================] - 27s 33ms/step - loss: 12.7588 - mae: 2.8168 - val_loss: 11.2025 - val_mae: 2.6169\n",
      "Epoch 31/100\n",
      "819/819 [==============================] - 27s 33ms/step - loss: 12.7414 - mae: 2.8156 - val_loss: 11.2386 - val_mae: 2.6217\n",
      "Epoch 32/100\n",
      "819/819 [==============================] - 27s 33ms/step - loss: 12.6890 - mae: 2.8117 - val_loss: 11.9182 - val_mae: 2.7026\n",
      "Epoch 33/100\n",
      "819/819 [==============================] - 27s 33ms/step - loss: 12.7101 - mae: 2.8105 - val_loss: 11.4545 - val_mae: 2.6492\n",
      "Epoch 34/100\n",
      "819/819 [==============================] - 27s 33ms/step - loss: 12.7205 - mae: 2.8136 - val_loss: 11.6035 - val_mae: 2.6672\n",
      "Epoch 35/100\n",
      "819/819 [==============================] - 28s 34ms/step - loss: 12.6663 - mae: 2.8076 - val_loss: 11.3378 - val_mae: 2.6315\n",
      "Epoch 36/100\n",
      "819/819 [==============================] - 27s 33ms/step - loss: 12.6609 - mae: 2.8062 - val_loss: 11.2915 - val_mae: 2.6221\n",
      "Epoch 37/100\n",
      "819/819 [==============================] - 27s 33ms/step - loss: 12.6775 - mae: 2.8055 - val_loss: 11.1971 - val_mae: 2.6157\n",
      "Epoch 38/100\n",
      "819/819 [==============================] - 28s 34ms/step - loss: 12.6281 - mae: 2.8008 - val_loss: 11.1866 - val_mae: 2.6159\n",
      "405/405 [==============================] - 6s 13ms/step - loss: 12.6475 - mae: 2.8174\n",
      "Test MAE: 2.82\n"
     ]
    }
   ],
   "source": [
    "model.compile(optimizer=\"adam\", loss=\"mse\", metrics=[\"mae\"])\n",
    "callback = keras.callbacks.EarlyStopping(monitor='val_loss', patience=10)\n",
    "history = model.fit(\n",
    "    train_dataset,\n",
    "    epochs=100, \n",
    "    validation_data=val_dataset,\n",
    "    callbacks=[callback]\n",
    ")\n",
    "\n",
    "print(f\"Test MAE: {model.evaluate(test_dataset)[1]:.2f}\")\n"
   ]
  }
 ],
 "metadata": {
  "kernelspec": {
   "display_name": "Python 3",
   "language": "python",
   "name": "python3"
  },
  "language_info": {
   "codemirror_mode": {
    "name": "ipython",
    "version": 3
   },
   "file_extension": ".py",
   "mimetype": "text/x-python",
   "name": "python",
   "nbconvert_exporter": "python",
   "pygments_lexer": "ipython3",
   "version": "3.10.7"
  }
 },
 "nbformat": 4,
 "nbformat_minor": 2
}
