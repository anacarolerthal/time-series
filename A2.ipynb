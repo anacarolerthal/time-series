{
 "cells": [
  {
   "cell_type": "code",
   "execution_count": 1,
   "metadata": {},
   "outputs": [
    {
     "name": "stderr",
     "output_type": "stream",
     "text": [
      "2023-12-04 20:11:22.591102: I external/local_tsl/tsl/cuda/cudart_stub.cc:31] Could not find cuda drivers on your machine, GPU will not be used.\n",
      "2023-12-04 20:11:22.771251: E external/local_xla/xla/stream_executor/cuda/cuda_dnn.cc:9261] Unable to register cuDNN factory: Attempting to register factory for plugin cuDNN when one has already been registered\n",
      "2023-12-04 20:11:22.771350: E external/local_xla/xla/stream_executor/cuda/cuda_fft.cc:607] Unable to register cuFFT factory: Attempting to register factory for plugin cuFFT when one has already been registered\n",
      "2023-12-04 20:11:22.808565: E external/local_xla/xla/stream_executor/cuda/cuda_blas.cc:1515] Unable to register cuBLAS factory: Attempting to register factory for plugin cuBLAS when one has already been registered\n",
      "2023-12-04 20:11:22.880229: I external/local_tsl/tsl/cuda/cudart_stub.cc:31] Could not find cuda drivers on your machine, GPU will not be used.\n",
      "2023-12-04 20:11:22.881263: I tensorflow/core/platform/cpu_feature_guard.cc:182] This TensorFlow binary is optimized to use available CPU instructions in performance-critical operations.\n",
      "To enable the following instructions: AVX2 FMA, in other operations, rebuild TensorFlow with the appropriate compiler flags.\n",
      "2023-12-04 20:11:23.952462: W tensorflow/compiler/tf2tensorrt/utils/py_utils.cc:38] TF-TRT Warning: Could not find TensorRT\n"
     ]
    }
   ],
   "source": [
    "import os\n",
    "import numpy as np\n",
    "from matplotlib import pyplot as plt\n",
    "import keras\n",
    "from tensorflow import keras\n",
    "from tensorflow.keras import layers\n"
   ]
  },
  {
   "cell_type": "code",
   "execution_count": 2,
   "metadata": {},
   "outputs": [
    {
     "name": "stdout",
     "output_type": "stream",
     "text": [
      "['\"Date Time\"', '\"p (mbar)\"', '\"T (degC)\"', '\"Tpot (K)\"', '\"Tdew (degC)\"', '\"rh (%)\"', '\"VPmax (mbar)\"', '\"VPact (mbar)\"', '\"VPdef (mbar)\"', '\"sh (g/kg)\"', '\"H2OC (mmol/mol)\"', '\"rho (g/m**3)\"', '\"wv (m/s)\"', '\"max. wv (m/s)\"', '\"wd (deg)\"']\n",
      "420451\n"
     ]
    }
   ],
   "source": [
    "fname = os.path.join(\"data\",\"jena_climate_2009_2016.csv\")\n",
    "with open(fname) as f:\n",
    "    data = f.read()\n",
    "lines = data.split(\"\\n\")\n",
    "header = lines[0].split(\",\")\n",
    "lines = lines[1:]\n",
    "print(header)\n",
    "print(len(lines))"
   ]
  },
  {
   "cell_type": "code",
   "execution_count": 3,
   "metadata": {},
   "outputs": [],
   "source": [
    "temperature = np.zeros((len(lines),))\n",
    "raw_data = np.zeros((len(lines), len(header) - 1))\n",
    "for i, line in enumerate(lines):\n",
    "    values = [float(x) for x in line.split(\",\")[1:]]\n",
    "    temperature[i] = values[1]\n",
    "    raw_data[i, :] = values[:]"
   ]
  },
  {
   "cell_type": "markdown",
   "metadata": {},
   "source": [
    "## Prepare the data"
   ]
  },
  {
   "cell_type": "code",
   "execution_count": 4,
   "metadata": {},
   "outputs": [
    {
     "name": "stdout",
     "output_type": "stream",
     "text": [
      "num_train_samples: 210225\n",
      "num_val_samples: 105112\n",
      "num_test_samples: 105114\n"
     ]
    }
   ],
   "source": [
    "num_train_samples = int(0.5 * len(raw_data))\n",
    "num_val_samples = int(0.25 * len(raw_data))\n",
    "num_test_samples = len(raw_data) - num_train_samples - num_val_samples\n",
    "print(\"num_train_samples:\", num_train_samples)\n",
    "print(\"num_val_samples:\", num_val_samples)\n",
    "print(\"num_test_samples:\", num_test_samples)"
   ]
  },
  {
   "cell_type": "code",
   "execution_count": 5,
   "metadata": {},
   "outputs": [],
   "source": [
    "mean = raw_data[:num_train_samples].mean(axis=0)\n",
    "raw_data -= mean\n",
    "std = raw_data[:num_train_samples].std(axis=0)\n",
    "raw_data /= std"
   ]
  },
  {
   "cell_type": "code",
   "execution_count": 6,
   "metadata": {},
   "outputs": [
    {
     "name": "stderr",
     "output_type": "stream",
     "text": [
      "2023-12-04 20:11:26.813416: E external/local_xla/xla/stream_executor/cuda/cuda_driver.cc:274] failed call to cuInit: CUDA_ERROR_NO_DEVICE: no CUDA-capable device is detected\n"
     ]
    }
   ],
   "source": [
    "sampling_rate = 6\n",
    "sequence_length = 120\n",
    "delay = sampling_rate * (sequence_length + 24 - 1)\n",
    "batch_size = 256\n",
    "\n",
    "train_dataset = keras.utils.timeseries_dataset_from_array(\n",
    "    raw_data[:-delay],\n",
    "    targets=temperature[delay:],\n",
    "    sampling_rate=sampling_rate,\n",
    "    sequence_length=sequence_length,\n",
    "    shuffle=True,\n",
    "    batch_size=batch_size,\n",
    "    start_index=0,\n",
    "    end_index=num_train_samples\n",
    ")\n",
    "\n",
    "val_dataset = keras.utils.timeseries_dataset_from_array(\n",
    "    raw_data[:-delay],\n",
    "    targets=temperature[delay:],\n",
    "    sampling_rate=sampling_rate,\n",
    "    sequence_length=sequence_length,\n",
    "    shuffle=True,\n",
    "    batch_size=batch_size,\n",
    "    start_index=num_train_samples,\n",
    "    end_index=num_train_samples + num_val_samples\n",
    ")\n",
    "\n",
    "test_dataset = keras.utils.timeseries_dataset_from_array(\n",
    "    raw_data[:-delay],\n",
    "    targets=temperature[delay:],\n",
    "    sampling_rate=sampling_rate,\n",
    "    sequence_length=sequence_length,\n",
    "    shuffle=True,\n",
    "    batch_size=batch_size,\n",
    "    start_index=num_train_samples + num_val_samples\n",
    ")"
   ]
  },
  {
   "cell_type": "code",
   "execution_count": 7,
   "metadata": {},
   "outputs": [
    {
     "name": "stdout",
     "output_type": "stream",
     "text": [
      "samples shape: (256, 120, 14)\n",
      "targets shape: (256,)\n"
     ]
    }
   ],
   "source": [
    "for samples, targets in train_dataset:\n",
    "    print(\"samples shape:\", samples.shape)\n",
    "    print(\"targets shape:\", targets.shape)\n",
    "    break"
   ]
  },
  {
   "cell_type": "markdown",
   "metadata": {},
   "source": [
    "## Base line "
   ]
  },
  {
   "cell_type": "code",
   "execution_count": 8,
   "metadata": {},
   "outputs": [
    {
     "name": "stdout",
     "output_type": "stream",
     "text": [
      "Validation MAE: 2.44\n",
      "Test MAE: 2.62\n"
     ]
    }
   ],
   "source": [
    "def evaluate_naive_method(dataset):\n",
    "    total_abs_err = 0.\n",
    "    samples_seen = 0\n",
    "    for samples, targets in dataset:\n",
    "        preds = samples[:, -1, 1] * std[1] + mean[1]\n",
    "        total_abs_err += np.sum(np.abs(preds - targets))\n",
    "        samples_seen += samples.shape[0]\n",
    "    return total_abs_err / samples_seen\n",
    "\n",
    "\n",
    "print(f\"Validation MAE: {evaluate_naive_method(val_dataset):.2f}\")\n",
    "print(f\"Test MAE: {evaluate_naive_method(test_dataset):.2f}\")"
   ]
  },
  {
   "cell_type": "markdown",
   "metadata": {},
   "source": [
    "## Feedforward Neural Network\n",
    "#### Alterações:\n",
    "- **Número de neurônios:** Alterado de 16 para 4 neurôneos na primeira camada densa\n",
    "- **Função de ativação:** Alterada de ReLU para Tanh\n",
    "- **Otimizador:** Alterado de \"rmsprop\" para Adam\n",
    "- **Número de épocas:** Alterado de 10 para 50\n",
    "- **Batch Normalization:** Adicionamos Batch Normalization\n",
    "- **Early Stopping:** Adicionamos Early Stopping monitorando a loss da validação e com paciência 10\n"
   ]
  },
  {
   "cell_type": "code",
   "execution_count": 15,
   "metadata": {},
   "outputs": [],
   "source": [
    "inputs = keras.Input(shape=(sequence_length, raw_data.shape[-1]))\n",
    "x = layers.Flatten()(inputs)\n",
    "x = layers.BatchNormalization()(x)\n",
    "x = layers.Dense(4, activation=\"tanh\")(x)\n",
    "x = layers.BatchNormalization()(x)\n",
    "outputs = layers.Dense(1)(x)\n",
    "model = keras.Model(inputs, outputs)"
   ]
  },
  {
   "cell_type": "code",
   "execution_count": 13,
   "metadata": {},
   "outputs": [
    {
     "name": "stdout",
     "output_type": "stream",
     "text": [
      "Model: \"model_1\"\n",
      "_________________________________________________________________\n",
      " Layer (type)                Output Shape              Param #   \n",
      "=================================================================\n",
      " input_2 (InputLayer)        [(None, 120, 14)]         0         \n",
      "                                                                 \n",
      " flatten_1 (Flatten)         (None, 1680)              0         \n",
      "                                                                 \n",
      " dense_2 (Dense)             (None, 4)                 6724      \n",
      "                                                                 \n",
      " dense_3 (Dense)             (None, 1)                 5         \n",
      "                                                                 \n",
      "=================================================================\n",
      "Total params: 6729 (26.29 KB)\n",
      "Trainable params: 6729 (26.29 KB)\n",
      "Non-trainable params: 0 (0.00 Byte)\n",
      "_________________________________________________________________\n"
     ]
    }
   ],
   "source": [
    "model.summary()"
   ]
  },
  {
   "cell_type": "code",
   "execution_count": 16,
   "metadata": {},
   "outputs": [
    {
     "name": "stdout",
     "output_type": "stream",
     "text": [
      "Epoch 1/50\n"
     ]
    },
    {
     "name": "stdout",
     "output_type": "stream",
     "text": [
      "819/819 [==============================] - 13s 15ms/step - loss: 70.5400 - mae: 7.0321 - val_loss: 23.9977 - val_mae: 4.1293\n",
      "Epoch 2/50\n",
      "819/819 [==============================] - 14s 17ms/step - loss: 13.1628 - mae: 2.8923 - val_loss: 10.7275 - val_mae: 2.5762\n",
      "Epoch 3/50\n",
      "819/819 [==============================] - 14s 17ms/step - loss: 9.6985 - mae: 2.4502 - val_loss: 10.3928 - val_mae: 2.5048\n",
      "Epoch 4/50\n",
      "819/819 [==============================] - 14s 17ms/step - loss: 9.6511 - mae: 2.4460 - val_loss: 10.3129 - val_mae: 2.5208\n",
      "Epoch 5/50\n",
      "819/819 [==============================] - 14s 17ms/step - loss: 9.5833 - mae: 2.4358 - val_loss: 10.3511 - val_mae: 2.5309\n",
      "Epoch 6/50\n",
      "819/819 [==============================] - 14s 17ms/step - loss: 9.5213 - mae: 2.4306 - val_loss: 15.1751 - val_mae: 3.0153\n",
      "Epoch 7/50\n",
      "819/819 [==============================] - 14s 17ms/step - loss: 9.4956 - mae: 2.4278 - val_loss: 10.3703 - val_mae: 2.5149\n",
      "Epoch 8/50\n",
      "819/819 [==============================] - 15s 18ms/step - loss: 9.4326 - mae: 2.4226 - val_loss: 10.1618 - val_mae: 2.4862\n",
      "Epoch 9/50\n",
      "819/819 [==============================] - 15s 18ms/step - loss: 9.3127 - mae: 2.4085 - val_loss: 10.1553 - val_mae: 2.4877\n",
      "Epoch 10/50\n",
      "819/819 [==============================] - 15s 18ms/step - loss: 9.3225 - mae: 2.4074 - val_loss: 11.4762 - val_mae: 2.6377\n",
      "Epoch 11/50\n",
      "819/819 [==============================] - 14s 17ms/step - loss: 9.3931 - mae: 2.4184 - val_loss: 10.1615 - val_mae: 2.4814\n",
      "Epoch 12/50\n",
      "819/819 [==============================] - 16s 19ms/step - loss: 9.3293 - mae: 2.4108 - val_loss: 11.6432 - val_mae: 2.6575\n",
      "Epoch 13/50\n",
      "819/819 [==============================] - 19s 24ms/step - loss: 9.2028 - mae: 2.3946 - val_loss: 10.7094 - val_mae: 2.5394\n",
      "Epoch 14/50\n",
      "819/819 [==============================] - 15s 18ms/step - loss: 9.2206 - mae: 2.3968 - val_loss: 10.3498 - val_mae: 2.5126\n",
      "Epoch 15/50\n",
      "819/819 [==============================] - 15s 18ms/step - loss: 9.2365 - mae: 2.4004 - val_loss: 9.7377 - val_mae: 2.4356\n",
      "Epoch 16/50\n",
      "819/819 [==============================] - 15s 18ms/step - loss: 9.1391 - mae: 2.3877 - val_loss: 9.9941 - val_mae: 2.4635\n",
      "Epoch 17/50\n",
      "819/819 [==============================] - 15s 18ms/step - loss: 9.1514 - mae: 2.3881 - val_loss: 10.3805 - val_mae: 2.5374\n",
      "Epoch 18/50\n",
      "819/819 [==============================] - 15s 18ms/step - loss: 9.1146 - mae: 2.3838 - val_loss: 9.4437 - val_mae: 2.3910\n",
      "Epoch 19/50\n",
      "819/819 [==============================] - 15s 18ms/step - loss: 9.0819 - mae: 2.3794 - val_loss: 10.7879 - val_mae: 2.5437\n",
      "Epoch 20/50\n",
      "819/819 [==============================] - 15s 18ms/step - loss: 9.0695 - mae: 2.3796 - val_loss: 12.1622 - val_mae: 2.7076\n",
      "Epoch 21/50\n",
      "819/819 [==============================] - 15s 18ms/step - loss: 8.9813 - mae: 2.3681 - val_loss: 10.1180 - val_mae: 2.4975\n",
      "Epoch 22/50\n",
      "819/819 [==============================] - 15s 18ms/step - loss: 9.0600 - mae: 2.3769 - val_loss: 9.6279 - val_mae: 2.4226\n",
      "Epoch 23/50\n",
      "819/819 [==============================] - 15s 18ms/step - loss: 9.0473 - mae: 2.3758 - val_loss: 10.3395 - val_mae: 2.5233\n",
      "Epoch 24/50\n",
      "819/819 [==============================] - 15s 18ms/step - loss: 9.0447 - mae: 2.3732 - val_loss: 10.1568 - val_mae: 2.4907\n",
      "Epoch 25/50\n",
      "819/819 [==============================] - 15s 18ms/step - loss: 8.9670 - mae: 2.3652 - val_loss: 9.4785 - val_mae: 2.4016\n",
      "Epoch 26/50\n",
      "819/819 [==============================] - 15s 18ms/step - loss: 9.0216 - mae: 2.3711 - val_loss: 10.3932 - val_mae: 2.5157\n",
      "Epoch 27/50\n",
      "819/819 [==============================] - 15s 18ms/step - loss: 8.9221 - mae: 2.3580 - val_loss: 9.5081 - val_mae: 2.3956\n",
      "Epoch 28/50\n",
      "819/819 [==============================] - 15s 18ms/step - loss: 8.9480 - mae: 2.3625 - val_loss: 9.6981 - val_mae: 2.4264\n",
      "405/405 [==============================] - 5s 11ms/step - loss: 10.5246 - mae: 2.5356\n",
      "Test MAE: 2.54\n"
     ]
    }
   ],
   "source": [
    "model.compile(optimizer=\"adam\", loss=\"mse\", metrics=[\"mae\"])\n",
    "callback = keras.callbacks.EarlyStopping(monitor='val_loss', patience=10),\n",
    "\n",
    "history = model.fit(\n",
    "    train_dataset,\n",
    "    epochs=50,\n",
    "    validation_data=val_dataset,\n",
    "    callbacks=[callback]\n",
    ")\n",
    "\n",
    "print(f\"Test MAE: {model.evaluate(test_dataset)[1]:.2f}\")"
   ]
  },
  {
   "cell_type": "code",
   "execution_count": 17,
   "metadata": {},
   "outputs": [
    {
     "data": {
      "image/png": "[encoded data removed]",
      "text/plain": [
       "<Figure size 640x480 with 1 Axes>"
      ]
     },
     "metadata": {},
     "output_type": "display_data"
    }
   ],
   "source": [
    "import matplotlib.pyplot as plt\n",
    "\n",
    "loss = history.history[\"mae\"]\n",
    "val_loss = history.history[\"val_mae\"]\n",
    "epochs = range(1, len(loss) + 1)\n",
    "plt.figure()\n",
    "plt.plot(epochs, loss, \"bo\", label=\"Training MAE\")\n",
    "plt.plot(epochs, val_loss, \"b\", label=\"Validation MAE\")\n",
    "plt.title(\"Training and validation MAE\")\n",
    "plt.legend()\n",
    "plt.show()"
   ]
  },
  {
   "cell_type": "markdown",
   "metadata": {},
   "source": [
    "## 1D convolution neural network\n",
    "#### Alterações\n",
    "- **Número de filtros:** Alterado de 8 para 4 filtros de cada camada convolucional\n",
    "- **Função de ativação:** Alterada de ReLU para Leaky ReLU em cada camada convolucional\n",
    "- **Otimizador:** Alterado de \"rmsprop\" para Adam\n",
    "- **Número de épocas:** Alterado de 10 para 100\n",
    "- **Batch Normalization:** Adicionamos Batch Normalization\n",
    "- **Regularização:** Adicionamos regularização L2 em cada camada convolucional\n",
    "- **Dropout:** Adicionamos Dropout de 20% nas duas primeiras camadas convolucionais\n",
    "- **Early Stopping:** Adicionamos Early Stopping monitorando a loss da validação e com paciência 10\n"
   ]
  },
  {
   "cell_type": "code",
   "execution_count": 16,
   "metadata": {},
   "outputs": [],
   "source": [
    "from keras import layers, regularizers\n",
    "\n",
    "inputs = keras.Input(shape=(sequence_length, raw_data.shape[-1]))\n",
    "\n",
    "x = layers.Conv1D(4, 24, activation=\"leaky_relu\", \n",
    "                  kernel_regularizer=regularizers.l2(0.001))(inputs)\n",
    "x = layers.BatchNormalization()(x)\n",
    "x = layers.MaxPooling1D(2)(x)\n",
    "x = layers.Dropout(0.2)(x) \n",
    "\n",
    "x = layers.Conv1D(4, 12, activation=\"leaky_relu\", \n",
    "                  kernel_regularizer=regularizers.l2(0.001))(x)\n",
    "x = layers.BatchNormalization()(x)\n",
    "x = layers.MaxPooling1D(2)(x)\n",
    "x = layers.Dropout(0.2)(x) \n",
    "\n",
    "x = layers.Conv1D(4, 6, activation=\"leaky_relu\", \n",
    "                  kernel_regularizer=regularizers.l2(0.001))(x)\n",
    "x = layers.BatchNormalization()(x)\n",
    "x = layers.GlobalAveragePooling1D()(x)\n",
    "\n",
    "outputs = layers.Dense(1, kernel_regularizer=regularizers.l2(0.001))(x) \n",
    "model = keras.Model(inputs, outputs)"
   ]
  },
  {
   "cell_type": "code",
   "execution_count": 17,
   "metadata": {},
   "outputs": [
    {
     "name": "stdout",
     "output_type": "stream",
     "text": [
      "Model: \"model_3\"\n",
      "_________________________________________________________________\n",
      " Layer (type)                Output Shape              Param #   \n",
      "=================================================================\n",
      " input_4 (InputLayer)        [(None, 120, 14)]         0         \n",
      "                                                                 \n",
      " conv1d_9 (Conv1D)           (None, 97, 4)             1348      \n",
      "                                                                 \n",
      " batch_normalization_9 (Bat  (None, 97, 4)             16        \n",
      " chNormalization)                                                \n",
      "                                                                 \n",
      " max_pooling1d_6 (MaxPoolin  (None, 48, 4)             0         \n",
      " g1D)                                                            \n",
      "                                                                 \n",
      " dropout_6 (Dropout)         (None, 48, 4)             0         \n",
      "                                                                 \n",
      " conv1d_10 (Conv1D)          (None, 37, 4)             196       \n",
      "                                                                 \n",
      " batch_normalization_10 (Ba  (None, 37, 4)             16        \n",
      " tchNormalization)                                               \n",
      "                                                                 \n",
      " max_pooling1d_7 (MaxPoolin  (None, 18, 4)             0         \n",
      " g1D)                                                            \n",
      "                                                                 \n",
      " dropout_7 (Dropout)         (None, 18, 4)             0         \n",
      "                                                                 \n",
      " conv1d_11 (Conv1D)          (None, 13, 4)             100       \n",
      "                                                                 \n",
      " batch_normalization_11 (Ba  (None, 13, 4)             16        \n",
      " tchNormalization)                                               \n",
      "                                                                 \n",
      " global_average_pooling1d_3  (None, 4)                 0         \n",
      "  (GlobalAveragePooling1D)                                       \n",
      "                                                                 \n",
      " dense_3 (Dense)             (None, 1)                 5         \n",
      "                                                                 \n",
      "=================================================================\n",
      "Total params: 1697 (6.63 KB)\n",
      "Trainable params: 1673 (6.54 KB)\n",
      "Non-trainable params: 24 (96.00 Byte)\n",
      "_________________________________________________________________\n"
     ]
    }
   ],
   "source": [
    "model.summary()"
   ]
  },
  {
   "cell_type": "code",
   "execution_count": 13,
   "metadata": {},
   "outputs": [
    {
     "name": "stdout",
     "output_type": "stream",
     "text": [
      "Epoch 1/100\n",
      "819/819 [==============================] - 25s 29ms/step - loss: 74.1679 - mae: 7.0189 - val_loss: 36.1718 - val_mae: 4.8308\n",
      "Epoch 2/100\n",
      "819/819 [==============================] - 26s 31ms/step - loss: 21.2536 - mae: 3.5991 - val_loss: 15.2774 - val_mae: 3.0712\n",
      "Epoch 3/100\n",
      "819/819 [==============================] - 26s 31ms/step - loss: 16.9667 - mae: 3.2617 - val_loss: 14.2674 - val_mae: 2.9372\n",
      "Epoch 4/100\n",
      "819/819 [==============================] - 26s 32ms/step - loss: 16.0303 - mae: 3.1665 - val_loss: 13.5214 - val_mae: 2.8679\n",
      "Epoch 5/100\n",
      "819/819 [==============================] - 26s 32ms/step - loss: 15.2993 - mae: 3.0923 - val_loss: 13.2972 - val_mae: 2.8272\n",
      "Epoch 6/100\n",
      "819/819 [==============================] - 26s 32ms/step - loss: 14.7189 - mae: 3.0295 - val_loss: 12.4930 - val_mae: 2.7657\n",
      "Epoch 7/100\n",
      "819/819 [==============================] - 26s 32ms/step - loss: 14.2929 - mae: 2.9833 - val_loss: 12.1561 - val_mae: 2.7159\n",
      "Epoch 8/100\n",
      "819/819 [==============================] - 26s 32ms/step - loss: 14.0392 - mae: 2.9598 - val_loss: 12.1628 - val_mae: 2.7237\n",
      "Epoch 9/100\n",
      "819/819 [==============================] - 26s 32ms/step - loss: 13.8333 - mae: 2.9343 - val_loss: 11.7900 - val_mae: 2.6782\n",
      "Epoch 10/100\n",
      "819/819 [==============================] - 26s 32ms/step - loss: 13.7214 - mae: 2.9225 - val_loss: 12.3422 - val_mae: 2.7466\n",
      "Epoch 11/100\n",
      "819/819 [==============================] - 26s 32ms/step - loss: 13.6284 - mae: 2.9118 - val_loss: 12.9882 - val_mae: 2.8333\n",
      "Epoch 12/100\n",
      "819/819 [==============================] - 27s 32ms/step - loss: 13.5214 - mae: 2.9006 - val_loss: 12.0708 - val_mae: 2.7090\n",
      "Epoch 13/100\n",
      "819/819 [==============================] - 26s 32ms/step - loss: 13.4520 - mae: 2.8912 - val_loss: 11.4350 - val_mae: 2.6338\n",
      "Epoch 14/100\n",
      "819/819 [==============================] - 27s 32ms/step - loss: 13.4085 - mae: 2.8869 - val_loss: 11.5698 - val_mae: 2.6489\n",
      "Epoch 15/100\n",
      "819/819 [==============================] - 27s 33ms/step - loss: 13.3553 - mae: 2.8825 - val_loss: 11.8928 - val_mae: 2.6919\n",
      "Epoch 16/100\n",
      "819/819 [==============================] - 27s 32ms/step - loss: 13.3488 - mae: 2.8767 - val_loss: 11.7799 - val_mae: 2.6801\n",
      "Epoch 17/100\n",
      "819/819 [==============================] - 27s 32ms/step - loss: 13.2825 - mae: 2.8723 - val_loss: 11.7847 - val_mae: 2.6806\n",
      "Epoch 18/100\n",
      "819/819 [==============================] - 27s 32ms/step - loss: 13.2523 - mae: 2.8679 - val_loss: 11.6525 - val_mae: 2.6662\n",
      "Epoch 19/100\n",
      "819/819 [==============================] - 26s 32ms/step - loss: 13.2202 - mae: 2.8660 - val_loss: 11.7206 - val_mae: 2.6722\n",
      "Epoch 20/100\n",
      "819/819 [==============================] - 27s 32ms/step - loss: 13.2111 - mae: 2.8678 - val_loss: 12.1143 - val_mae: 2.7266\n",
      "Epoch 21/100\n",
      "819/819 [==============================] - 26s 32ms/step - loss: 13.1545 - mae: 2.8606 - val_loss: 12.2138 - val_mae: 2.7314\n",
      "Epoch 22/100\n",
      "819/819 [==============================] - 27s 32ms/step - loss: 13.1610 - mae: 2.8580 - val_loss: 11.4262 - val_mae: 2.6371\n",
      "Epoch 23/100\n",
      "819/819 [==============================] - 26s 32ms/step - loss: 13.1080 - mae: 2.8555 - val_loss: 12.2051 - val_mae: 2.7298\n",
      "Epoch 24/100\n",
      "819/819 [==============================] - 27s 32ms/step - loss: 13.0961 - mae: 2.8504 - val_loss: 12.3478 - val_mae: 2.7509\n",
      "Epoch 25/100\n",
      "819/819 [==============================] - 27s 32ms/step - loss: 13.1189 - mae: 2.8533 - val_loss: 12.7556 - val_mae: 2.7955\n",
      "Epoch 26/100\n",
      "819/819 [==============================] - 27s 33ms/step - loss: 13.0949 - mae: 2.8510 - val_loss: 12.4199 - val_mae: 2.7563\n",
      "Epoch 27/100\n",
      "819/819 [==============================] - 27s 32ms/step - loss: 13.0397 - mae: 2.8460 - val_loss: 12.9026 - val_mae: 2.8231\n",
      "Epoch 28/100\n",
      "819/819 [==============================] - 27s 32ms/step - loss: 13.0780 - mae: 2.8505 - val_loss: 13.0280 - val_mae: 2.8312\n",
      "Epoch 29/100\n",
      "819/819 [==============================] - 27s 32ms/step - loss: 13.0397 - mae: 2.8461 - val_loss: 11.6173 - val_mae: 2.6564\n",
      "Epoch 30/100\n",
      "819/819 [==============================] - 27s 32ms/step - loss: 13.0235 - mae: 2.8434 - val_loss: 12.3288 - val_mae: 2.7442\n",
      "Epoch 31/100\n",
      "819/819 [==============================] - 27s 32ms/step - loss: 13.0528 - mae: 2.8446 - val_loss: 11.8798 - val_mae: 2.6878\n",
      "Epoch 32/100\n",
      "819/819 [==============================] - 28s 34ms/step - loss: 13.0215 - mae: 2.8420 - val_loss: 11.9284 - val_mae: 2.6954\n",
      "405/405 [==============================] - 5s 13ms/step - loss: 12.9880 - mae: 2.8342\n",
      "Test MAE: 2.83\n"
     ]
    }
   ],
   "source": [
    "model.compile(optimizer=\"adam\", loss=\"mse\", metrics=[\"mae\"])\n",
    "callback = keras.callbacks.EarlyStopping(monitor='val_loss', patience=10)\n",
    "history = model.fit(\n",
    "    train_dataset,\n",
    "    epochs=100, \n",
    "    validation_data=val_dataset,\n",
    "    callbacks=[callback]\n",
    ")\n",
    "\n",
    "print(f\"Test MAE: {model.evaluate(test_dataset)[1]:.2f}\")\n"
   ]
  },
  {
   "cell_type": "code",
   "execution_count": 15,
   "metadata": {},
   "outputs": [
    {
     "data": {
      "image/png": "[encoded data removed]",
      "text/plain": [
       "<Figure size 640x480 with 1 Axes>"
      ]
     },
     "metadata": {},
     "output_type": "display_data"
    }
   ],
   "source": [
    "import matplotlib.pyplot as plt\n",
    "\n",
    "loss = history.history[\"mae\"]\n",
    "val_loss = history.history[\"val_mae\"]\n",
    "epochs = range(1, len(loss) + 1)\n",
    "plt.figure()\n",
    "plt.plot(epochs, loss, \"bo\", label=\"Training MAE\")\n",
    "plt.plot(epochs, val_loss, \"b\", label=\"Validation MAE\")\n",
    "plt.title(\"Training and validation MAE\")\n",
    "plt.legend()\n",
    "plt.show()"
   ]
  },
  {
   "cell_type": "code",
   "execution_count": null,
   "metadata": {},
   "outputs": [],
   "source": []
  }
 ],
 "metadata": {
  "kernelspec": {
   "display_name": "Python 3",
   "language": "python",
   "name": "python3"
  },
  "language_info": {
   "codemirror_mode": {
    "name": "ipython",
    "version": 3
   },
   "file_extension": ".py",
   "mimetype": "text/x-python",
   "name": "python",
   "nbconvert_exporter": "python",
   "pygments_lexer": "ipython3",
   "version": "3.11.4"
  }
 },
 "nbformat": 4,
 "nbformat_minor": 2
}
